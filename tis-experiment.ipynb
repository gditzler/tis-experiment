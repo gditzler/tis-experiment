{
 "cells": [
  {
   "cell_type": "code",
   "execution_count": 30,
   "id": "be817e55",
   "metadata": {},
   "outputs": [],
   "source": [
    "%matplotlib inline\n",
    "import pickle \n",
    "import numpy as np \n",
    "import matplotlib.pyplot as plt \n",
    "import matplotlib as mlp \n",
    "\n",
    "from tis.utils import data_loader\n",
    "\n",
    "from sklearn import metrics\n",
    "from sklearn.model_selection import train_test_split, cross_val_score, cross_validate\n",
    "from sklearn.svm import SVC\n",
    "from sklearn.gaussian_process.kernels import RBF\n",
    "from sklearn.gaussian_process import GaussianProcessClassifier\n",
    "from sklearn.tree import DecisionTreeClassifier\n",
    "from sklearn.ensemble import RandomForestClassifier, GradientBoostingClassifier, AdaBoostClassifier\n",
    "from sklearn.discriminant_analysis import QuadraticDiscriminantAnalysis\n",
    "\n",
    "from sklearn.manifold import TSNE\n",
    "from sklearn.metrics import ConfusionMatrixDisplay, confusion_matrix\n"
   ]
  },
  {
   "cell_type": "code",
   "execution_count": 6,
   "id": "55d95340",
   "metadata": {},
   "outputs": [
    {
     "name": "stdout",
     "output_type": "stream",
     "text": [
      "3.4.0\n"
     ]
    }
   ],
   "source": [
    "print(mlp.__version__) "
   ]
  },
  {
   "cell_type": "code",
   "execution_count": 7,
   "id": "d2e0a53e",
   "metadata": {},
   "outputs": [],
   "source": [
    "# initialize the models that we need to train \n",
    "MODELS = [\n",
    "    SVC(C=1.0, kernel='rbf', probability=True), \n",
    "    DecisionTreeClassifier(), \n",
    "    RandomForestClassifier(n_estimators=100), \n",
    "    GradientBoostingClassifier(n_estimators=50), \n",
    "    AdaBoostClassifier(n_estimators=50), \n",
    "    QuadraticDiscriminantAnalysis()\n",
    "]\n",
    "# names of the classifiers... must be in the same order \n",
    "NAMES = [\n",
    "    'SVC', \n",
    "    'DTC', \n",
    "    'RFC', \n",
    "    'GBC', \n",
    "    'AdaBoost', \n",
    "    'QDA'\n",
    "]\n",
    "CV = 5 \n",
    "PERFS = ['accuracy', 'f1_macro']"
   ]
  },
  {
   "cell_type": "code",
   "execution_count": 8,
   "id": "2f553c82",
   "metadata": {},
   "outputs": [],
   "source": [
    "def get_means(scores:dict):\n",
    "    \"\"\"average out the results from \n",
    "    \"\"\"\n",
    "    for key in scores.keys(): \n",
    "        scores[key] = scores[key].mean()\n",
    "    return scores \n",
    "\n",
    "def init_scores(keys):\n",
    "    \"\"\"set up the scores dictionary \n",
    "    \"\"\"\n",
    "    scores = {}\n",
    "    for key in keys: \n",
    "        scores[key] = []\n",
    "    return scores "
   ]
  },
  {
   "cell_type": "code",
   "execution_count": 9,
   "id": "2325e43f",
   "metadata": {},
   "outputs": [],
   "source": [
    "files_normal = ['comp2/normal_1.csv', 'comp2/normal_2.csv']\n",
    "files_attack = ['comp2/attack_label.csv']\n",
    "X, Y, keys = data_loader(files_normal=files_normal, files_attack=files_attack)\n",
    "X_train, X_test, Y_train, Y_test = train_test_split(X, Y, test_size=0.25, random_state=42)"
   ]
  },
  {
   "cell_type": "code",
   "execution_count": 10,
   "id": "40378b03",
   "metadata": {},
   "outputs": [
    {
     "name": "stdout",
     "output_type": "stream",
     "text": [
      "Running SVC\n",
      "Running DTC\n",
      "Running RFC\n",
      "Running GBC\n",
      "Running AdaBoost\n",
      "Running QDA\n"
     ]
    },
    {
     "name": "stderr",
     "output_type": "stream",
     "text": [
      "C:\\Users\\grego\\anaconda3\\lib\\site-packages\\sklearn\\discriminant_analysis.py:878: UserWarning: Variables are collinear\n",
      "  warnings.warn(\"Variables are collinear\")\n",
      "C:\\Users\\grego\\anaconda3\\lib\\site-packages\\sklearn\\discriminant_analysis.py:878: UserWarning: Variables are collinear\n",
      "  warnings.warn(\"Variables are collinear\")\n",
      "C:\\Users\\grego\\anaconda3\\lib\\site-packages\\sklearn\\discriminant_analysis.py:878: UserWarning: Variables are collinear\n",
      "  warnings.warn(\"Variables are collinear\")\n",
      "C:\\Users\\grego\\anaconda3\\lib\\site-packages\\sklearn\\discriminant_analysis.py:878: UserWarning: Variables are collinear\n",
      "  warnings.warn(\"Variables are collinear\")\n",
      "C:\\Users\\grego\\anaconda3\\lib\\site-packages\\sklearn\\discriminant_analysis.py:878: UserWarning: Variables are collinear\n",
      "  warnings.warn(\"Variables are collinear\")\n"
     ]
    }
   ],
   "source": [
    "scores = init_scores(NAMES)\n",
    "for i in range(len(MODELS)): \n",
    "    print(''.join(['Running ', NAMES[i]]))\n",
    "    clfr = MODELS[i]\n",
    "    scores[NAMES[i]] = get_means(cross_validate(MODELS[i], X, Y, cv=CV, scoring=PERFS))\n",
    "pickle.dump(scores, open('outputs/tis-supervised.pkl', 'wb'))"
   ]
  },
  {
   "cell_type": "code",
   "execution_count": 44,
   "id": "a0b90fe5",
   "metadata": {},
   "outputs": [
    {
     "name": "stdout",
     "output_type": "stream",
     "text": [
      "Running SVC\n",
      "Running DTC\n",
      "Running RFC\n",
      "Running GBC\n",
      "Running AdaBoost\n",
      "Running QDA\n"
     ]
    },
    {
     "name": "stderr",
     "output_type": "stream",
     "text": [
      "C:\\Users\\grego\\anaconda3\\lib\\site-packages\\sklearn\\discriminant_analysis.py:878: UserWarning: Variables are collinear\n",
      "  warnings.warn(\"Variables are collinear\")\n"
     ]
    }
   ],
   "source": [
    "for i in range(len(MODELS)): \n",
    "    print(''.join(['Running ', NAMES[i]]))\n",
    "    mdl = MODELS[i].fit(X_train, Y_train)\n",
    "    y_predict = mdl.predict_proba(X_test)\n",
    "    y_hat = mdl.predict(X_test)\n",
    "    \n",
    "    cm = confusion_matrix(Y_test, y_hat)\n",
    "    disp = ConfusionMatrixDisplay(confusion_matrix=cm) # display_labels=keys\n",
    "    disp.plot()\n",
    "    plt.title(NAMES[i])\n",
    "    plt.savefig(''.join(['outputs/cm_', NAMES[i], '.pdf']))\n",
    "    plt.close()\n",
    "    \n",
    "    plt.figure()\n",
    "    for j in range(y_predict.shape[1]): \n",
    "        fpr, tpr, thresholds = metrics.roc_curve(Y_test, y_predict[:,j], pos_label=j)\n",
    "        plt.plot(fpr, tpr, label=keys[j])\n",
    "    plt.xlabel('FPR')\n",
    "    plt.ylabel('TPR')\n",
    "    plt.title(NAMES[i])\n",
    "    plt.savefig(''.join(['outputs/roc_curves_', NAMES[i], '.pdf']))\n",
    "    plt.close()"
   ]
  },
  {
   "cell_type": "code",
   "execution_count": 14,
   "id": "fc110250",
   "metadata": {},
   "outputs": [
    {
     "name": "stdout",
     "output_type": "stream",
     "text": [
      "\tfit_time \t score_time \t test_accuracy \t test_f1_macro \t \n",
      "SVC \t 17.902752590179443\t1.124335241317749\t0.8352483523970495\t0.1311587352264181\t\n",
      "DTC \t 0.17156982421875\t0.006796121597290039\t0.9943360454908742\t0.9687240681723239\t\n",
      "RFC \t 1.5237862110137939\t0.07985835075378418\t0.9975725534897737\t0.9855372325769224\t\n",
      "GBC \t 112.27622985839844\t0.03837766647338867\t0.9962779240857932\t0.9789410102791525\t\n",
      "AdaBoost \t 4.787078762054444\t0.14251017570495605\t0.858391441636204\t0.15863439078466698\t\n",
      "QDA \t 0.2017005443572998\t0.0798421859741211\t0.9865668278238537\t0.9156405108270554\t\n"
     ]
    }
   ],
   "source": [
    "out = '\\t'\n",
    "for stat_name in scores[clfr_name]: \n",
    "    out += stat_name + ' \\t '\n",
    "print(out)\n",
    "\n",
    "for clfr_name in scores.keys(): \n",
    "    out = clfr_name + ' \\t '\n",
    "    for stat_name in scores[clfr_name]: \n",
    "        out += str(scores[clfr_name][stat_name]) + '\\t'\n",
    "    print(out)"
   ]
  },
  {
   "cell_type": "code",
   "execution_count": 21,
   "id": "617b893d",
   "metadata": {},
   "outputs": [],
   "source": [
    "X_embedded = TSNE(n_components=2, learning_rate='auto', init='random').fit_transform(X_train)"
   ]
  },
  {
   "cell_type": "code",
   "execution_count": 27,
   "id": "297404c9",
   "metadata": {},
   "outputs": [
    {
     "data": {
      "image/png": "[encoded data removed]",
      "text/plain": [
       "<Figure size 432x288 with 1 Axes>"
      ]
     },
     "metadata": {
      "needs_background": "light"
     },
     "output_type": "display_data"
    }
   ],
   "source": [
    "plt.figure()\n",
    "for i in np.unique(Y_train): \n",
    "    plt.scatter(X_embedded[Y_train==i, 0], X_embedded[Y_train==i, 1])\n",
    "plt.xlabel('PCA1')\n",
    "plt.ylabel('PCA2')\n",
    "plt.savefig('outputs/tnse_plots.pdf')"
   ]
  },
  {
   "cell_type": "code",
   "execution_count": 41,
   "id": "80b0ded6",
   "metadata": {},
   "outputs": [
    {
     "data": {
      "text/plain": [
       "<sklearn.metrics._plot.confusion_matrix.ConfusionMatrixDisplay at 0x13174b1cd90>"
      ]
     },
     "execution_count": 41,
     "metadata": {},
     "output_type": "execute_result"
    },
    {
     "data": {
      "text/plain": [
       "<Figure size 576x432 with 0 Axes>"
      ]
     },
     "metadata": {},
     "output_type": "display_data"
    },
    {
     "data": {
      "image/png": "[encoded data removed]",
      "text/plain": [
       "<Figure size 432x288 with 2 Axes>"
      ]
     },
     "metadata": {
      "needs_background": "light"
     },
     "output_type": "display_data"
    }
   ],
   "source": [
    "plt.figure(figsize=(8, 6))\n",
    "disp = ConfusionMatrixDisplay(confusion_matrix=cm, display_labels=keys)\n",
    "disp.plot()"
   ]
  },
  {
   "cell_type": "code",
   "execution_count": 42,
   "id": "8923cb0a",
   "metadata": {},
   "outputs": [
    {
     "name": "stdout",
     "output_type": "stream",
     "text": [
      "0: Normal\n",
      "1: abuse_msiexec\n",
      "2: abuse_regsvr\n",
      "3: abuse_rundll32\n",
      "4: application_window_discovery\n",
      "5: arch_util_admin\n",
      "6: automated_exfiltration\n",
      "7: exfiltration_http\n",
      "8: invoke_app_path_bypass\n",
      "9: invoke_html_app\n",
      "10: malicious_copy\n",
      "11: pass_the_hash_admin\n",
      "12: process_injection\n",
      "13: ransomware\n"
     ]
    }
   ],
   "source": [
    "for i in range(len(keys)): \n",
    "    print(str(i) + ': ' + keys[i])"
   ]
  },
  {
   "cell_type": "code",
   "execution_count": null,
   "id": "6f32b858",
   "metadata": {},
   "outputs": [],
   "source": []
  }
 ],
 "metadata": {
  "interpreter": {
   "hash": "0fd9392274fc82a63c2a75f43f796d95e051853c3a46ffe4696bb4291dc65e3b"
  },
  "kernelspec": {
   "display_name": "Python 3 (ipykernel)",
   "language": "python",
   "name": "python3"
  },
  "language_info": {
   "codemirror_mode": {
    "name": "ipython",
    "version": 3
   },
   "file_extension": ".py",
   "mimetype": "text/x-python",
   "name": "python",
   "nbconvert_exporter": "python",
   "pygments_lexer": "ipython3",
   "version": "3.8.12"
  }
 },
 "nbformat": 4,
 "nbformat_minor": 5
}
